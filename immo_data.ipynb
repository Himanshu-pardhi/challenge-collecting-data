{
 "cells": [
  {
   "cell_type": "code",
   "execution_count": 19,
   "metadata": {},
   "outputs": [],
   "source": [
    "from bs4 import BeautifulSoup\n",
    "import pandas as pd\n",
    "import requests\n",
    "import re\n",
    "import selenium\n",
    "from selenium import webdriver\n",
    "from selenium.webdriver.common.keys import Keys\n",
    "from selenium.webdriver.support.ui import WebDriverWait\n",
    "from selenium.webdriver.support import expected_conditions as EC\n",
    "from selenium.common.exceptions import TimeoutException\n",
    "from selenium.webdriver.common.by import By\n",
    "import csv\n",
    "import os"
   ]
  },
  {
   "cell_type": "code",
   "execution_count": 106,
   "metadata": {},
   "outputs": [],
   "source": [
    "# creating function to get all the onformation from all url\n",
    "#define fun\n",
    "def get_prop_info (url):\n",
    "\n",
    "    # Create request to access url \n",
    "    r = requests.get(url)\n",
    "    soup = BeautifulSoup(r.content, \"lxml\")\n",
    "\n",
    "    # get the Zip code fron url immo web url with regex\n",
    "    zip_pattern = re.findall(\"([/]+[\\d{4}]+[/])\",str(url))\n",
    "    zip_code = zip_pattern[0].replace(\"/\",\"\")\n",
    "\n",
    "    # Get price of the property\n",
    "    price = soup.find(\"p\", class_ = \"classified__price\").text\n",
    "    price = price.split()[0]\n",
    "\n",
    "    # get zip and price in one dictionary\n",
    "    zip_price_key = [\"zip\", \"price\"]\n",
    "    zip_price_values = [zip_code, price]\n",
    "    dict_zip_price = dict(zip(zip_price_key, zip_price_values))\n",
    "    \n",
    "    #get all the key and their respective values from all table and save it in dictionary \n",
    "    container = soup.find_all(\"tr\")\n",
    "    container_dict = {}\n",
    "    container_keys_list = []\n",
    "    container_values_list = []\n",
    "\n",
    "    for row in container:\n",
    "        for th in row.find_all(\"th\"):\n",
    "            container_keys_list.append(th.contents[0].strip())\n",
    "\n",
    "            for td in row.find_all(\"td\"):\n",
    "                container_values_list.append(td.contents[0].strip())\n",
    "\n",
    "    container_dict = dict(zip(container_keys_list, container_values_list))\n",
    "\n",
    "    # save all the data in dictionary\n",
    "    final_prop_dict = {**dict_zip_price,**container_dict}\n",
    "    return final_prop_dict"
   ]
  },
  {
   "cell_type": "code",
   "execution_count": 86,
   "metadata": {},
   "outputs": [],
   "source": [
    "# create instance of WebDriver\n",
    "driver = webdriver.Firefox()\n",
    "\n",
    "links_list = []\n",
    "\n",
    "# open file in write mode\n",
    "file_name = open(r\"all_links.txt\", \"w\")\n",
    "\n",
    "for page in range(1, 333):\n",
    "    l = f\"https://www.immoweb.be/en/search/house/for-sale?countries=BE&page={page}&orderBy=relevance\"\n",
    "\n",
    "    driver.get(l)\n",
    "    elements = driver.find_elements(by=By.XPATH, value=\"//a[@class='card__title-link']\")\n",
    "\n",
    "    for elem in elements:\n",
    "        href = elem.get_attribute(\"href\")\n",
    "        links_list.append(href)\n",
    "        \n",
    "#close the driver\n",
    "driver.close()\n",
    "\n",
    "#store all links from list to txt file\n",
    "with open(r\"all_links.txt\", \"w\") as fp:\n",
    "    for item in links_list:    \n",
    "        fp.write('\\n'.join(links_list))"
   ]
  },
  {
   "cell_type": "code",
   "execution_count": 110,
   "metadata": {},
   "outputs": [],
   "source": [
    "# open each url from all links file\n",
    "\n",
    "proprties = []\n",
    "\n",
    "with open(r\"all_links.txt\", \"r\")as f:\n",
    "    for link in f.readlines()[:10000]:\n",
    "\n",
    "        info = get_prop_info(link)\n",
    "        proprties.append(info)\n",
    "\n",
    "df = pd.DataFrame(proprties)\n",
    "df.to_csv(\"immo_data.csv\")\n"
   ]
  }
 ],
 "metadata": {
  "interpreter": {
   "hash": "26de051ba29f2982a8de78e945f0abaf191376122a1563185a90213a26c5da77"
  },
  "kernelspec": {
   "display_name": "Python 3 (ipykernel)",
   "language": "python",
   "name": "python3"
  },
  "language_info": {
   "codemirror_mode": {
    "name": "ipython",
    "version": 3
   },
   "file_extension": ".py",
   "mimetype": "text/x-python",
   "name": "python",
   "nbconvert_exporter": "python",
   "pygments_lexer": "ipython3",
   "version": "3.10.2"
  }
 },
 "nbformat": 4,
 "nbformat_minor": 2
}
