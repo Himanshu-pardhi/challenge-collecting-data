{
 "cells": [
  {
   "cell_type": "code",
   "execution_count": 9,
   "metadata": {},
   "outputs": [],
   "source": [
    "# Import Libraries\n",
    "import requests\n",
    "from bs4 import BeautifulSoup\n",
    "import pandas as pd\n",
    "\n",
    "# Create a dictinary to store all the details about property\n",
    "property = {}"
   ]
  },
  {
   "cell_type": "code",
   "execution_count": 10,
   "metadata": {},
   "outputs": [
    {
     "name": "stdout",
     "output_type": "stream",
     "text": [
      "https://www.immoweb.be/en/classified/mansion/for-sale/antwerp/2018/9899788?searchId=629772f7a685b 200\n"
     ]
    }
   ],
   "source": [
    "#importing url\n",
    "url = \"https://www.immoweb.be/en/classified/mansion/for-sale/antwerp/2018/9899788?searchId=629772f7a685b\"\n",
    "\n",
    "# Create request to access url \n",
    "r = requests.get(url)\n",
    "r.text\n",
    "\n",
    "print(url, r.status_code)"
   ]
  },
  {
   "cell_type": "code",
   "execution_count": 12,
   "metadata": {},
   "outputs": [],
   "source": [
    "soup = BeautifulSoup(r.content, \"lxml\")\n",
    "#soup\n",
    "#r.text"
   ]
  },
  {
   "cell_type": "code",
   "execution_count": 13,
   "metadata": {},
   "outputs": [
    {
     "name": "stdout",
     "output_type": "stream",
     "text": [
      "None\n"
     ]
    }
   ],
   "source": [
    "#Get Locality of property\n",
    "#Locality = soup.find('span', class_ =\"classified__information--address-row\")\n",
    "Locality = soup.find(\"span\", class_ =\"classified__information--address-row\")\n",
    "print(Locality)"
   ]
  },
  {
   "cell_type": "code",
   "execution_count": 14,
   "metadata": {},
   "outputs": [
    {
     "name": "stdout",
     "output_type": "stream",
     "text": [
      "price :  €1,250,000\n"
     ]
    }
   ],
   "source": [
    "# Get price of the property\n",
    "#price = soup.find('p', class_ = 'classified__price')\n",
    "price = (soup.find(\"p\", class_ = \"classified__price\").text)\n",
    "price = ' '.join(price.split())\n",
    "#print(price.text)\n",
    "print(\"price : \", price.split()[0])"
   ]
  },
  {
   "cell_type": "code",
   "execution_count": 15,
   "metadata": {},
   "outputs": [
    {
     "name": "stdout",
     "output_type": "stream",
     "text": [
      "Number_of_rooms :  4\n"
     ]
    }
   ],
   "source": [
    "# Get number of rooms\n",
    "#Number_of_rooms = soup.find('span', class_ = 'overview__text')\n",
    "Number_of_rooms = (soup.find(\"span\", class_ = \"overview__text\").text)\n",
    "Number_of_rooms = ' '.join(Number_of_rooms.split())\n",
    "#print(Number_of_rooms.text)\n",
    "print(\"Number_of_rooms : \", Number_of_rooms.split()[0])"
   ]
  },
  {
   "cell_type": "code",
   "execution_count": 16,
   "metadata": {},
   "outputs": [
    {
     "ename": "AttributeError",
     "evalue": "'NoneType' object has no attribute 'contents'",
     "output_type": "error",
     "traceback": [
      "\u001b[1;31m---------------------------------------------------------------------------\u001b[0m",
      "\u001b[1;31mAttributeError\u001b[0m                            Traceback (most recent call last)",
      "\u001b[1;32mc:\\Users\\himan\\OneDrive\\Desktop\\BeCode\\Projects_BeCode\\challenge-collecting-data\\Immo_data.ipynb Cell 7'\u001b[0m in \u001b[0;36m<cell line: 3>\u001b[1;34m()\u001b[0m\n\u001b[0;32m      <a href='vscode-notebook-cell:/c%3A/Users/himan/OneDrive/Desktop/BeCode/Projects_BeCode/challenge-collecting-data/Immo_data.ipynb#ch0000007?line=0'>1</a>\u001b[0m \u001b[39m#Get Area of property livable area\u001b[39;00m\n\u001b[0;32m      <a href='vscode-notebook-cell:/c%3A/Users/himan/OneDrive/Desktop/BeCode/Projects_BeCode/challenge-collecting-data/Immo_data.ipynb#ch0000007?line=1'>2</a>\u001b[0m Area \u001b[39m=\u001b[39m soup\u001b[39m.\u001b[39mfind(\u001b[39m\"\u001b[39m\u001b[39mscop\u001b[39m\u001b[39m\"\u001b[39m, class_ \u001b[39m=\u001b[39m \u001b[39m\"\u001b[39m\u001b[39mclassified-table__header\u001b[39m\u001b[39m\"\u001b[39m)\n\u001b[1;32m----> <a href='vscode-notebook-cell:/c%3A/Users/himan/OneDrive/Desktop/BeCode/Projects_BeCode/challenge-collecting-data/Immo_data.ipynb#ch0000007?line=2'>3</a>\u001b[0m \u001b[39mprint\u001b[39m(Area\u001b[39m.\u001b[39;49mcontents)\n",
      "\u001b[1;31mAttributeError\u001b[0m: 'NoneType' object has no attribute 'contents'"
     ]
    }
   ],
   "source": [
    "#Get Area of property livable area\n",
    "Area = soup.find(\"scop\", class_ = \"classified-table__header\")\n",
    "print(Area.contents)"
   ]
  },
  {
   "cell_type": "code",
   "execution_count": 17,
   "metadata": {},
   "outputs": [],
   "source": [
    "tables = []\n",
    "# create object to get table data\n",
    "tables = soup.find_all(\"tbody\" , class_=\"classified-table__body\")\n",
    "#tables"
   ]
  },
  {
   "cell_type": "code",
   "execution_count": 28,
   "metadata": {},
   "outputs": [],
   "source": [
    "table_general = tables[0].find_all(\"tr\")\n",
    "#table_general"
   ]
  },
  {
   "cell_type": "code",
   "execution_count": 29,
   "metadata": {},
   "outputs": [],
   "source": [
    "table_interior = tables[1].find_all(\"tr\")\n",
    "#table_interior"
   ]
  },
  {
   "cell_type": "code",
   "execution_count": null,
   "metadata": {},
   "outputs": [],
   "source": [
    "table_exterior = tables[2].find_all(\"tr\")\n",
    "#table_exterior"
   ]
  },
  {
   "cell_type": "code",
   "execution_count": 32,
   "metadata": {},
   "outputs": [
    {
     "name": "stdout",
     "output_type": "stream",
     "text": [
      "key : Available as of\n",
      "value : After signing the deed\n",
      "key : Available date\n",
      "value : September 1 2022 - 12:00 AM\n",
      "key : Construction year\n",
      "value : 1919\n",
      "key : Building condition\n",
      "value : Good\n",
      "key : Number of frontages\n",
      "value : 2\n",
      "key : Outdoor parking spaces\n",
      "value : 1\n",
      "key : Surroundings type\n",
      "value : Living area (residential, urban or rural)\n",
      "key : Virtual visit\n",
      "value : \n"
     ]
    }
   ],
   "source": [
    "#get all the key and their respective values from general table\n",
    "for row in table_general:\n",
    "    for th in row.find_all(\"th\"):\n",
    "        print(\"key :\" , f\"{th.contents[0].strip()}\")\n",
    "        for td in row.find_all(\"td\"):\n",
    "            print(\"value :\" , f\"{td.contents[0].strip()}\")"
   ]
  },
  {
   "cell_type": "code",
   "execution_count": 33,
   "metadata": {},
   "outputs": [
    {
     "name": "stdout",
     "output_type": "stream",
     "text": [
      "key : Living area\n",
      "value : 300\n",
      "key : Kitchen type\n",
      "value : USA hyper equipped\n",
      "key : Bedrooms\n",
      "value : 4\n",
      "key : Bedroom 1 surface\n",
      "value : 25\n",
      "key : Bedroom 2 surface\n",
      "value : 21\n",
      "key : Bedroom 3 surface\n",
      "value : 16\n",
      "key : Bedroom 4 surface\n",
      "value : 12\n",
      "key : Bathrooms\n",
      "value : 3\n",
      "key : Shower rooms\n",
      "value : 3\n",
      "key : Toilets\n",
      "value : 3\n",
      "key : Furnished\n",
      "value : No\n",
      "key : TV cable\n",
      "value : Yes\n"
     ]
    }
   ],
   "source": [
    "#get all the key and their respective values from interior table\n",
    "for row in table_interior:\n",
    "    for th in row.find_all(\"th\"):\n",
    "        print(\"key :\" , f\"{th.contents[0].strip()}\")\n",
    "        for td in row.find_all(\"td\"):\n",
    "            print(\"value :\" , f\"{td.contents[0].strip()}\")"
   ]
  },
  {
   "cell_type": "code",
   "execution_count": 34,
   "metadata": {},
   "outputs": [
    {
     "name": "stdout",
     "output_type": "stream",
     "text": [
      "key : Surface of the plot\n",
      "value : 177\n",
      "key : Connection to sewer network\n",
      "value : Connected\n",
      "key : Gas, water & electricity\n",
      "value : Yes\n",
      "key : Garden surface\n",
      "value : 50\n",
      "key : Terrace surface\n",
      "value : 35\n"
     ]
    }
   ],
   "source": [
    "#get all the key and their respective values from exterior table\n",
    "for row in table_exterior:\n",
    "    for th in row.find_all(\"th\"):\n",
    "        print(\"key :\" , f\"{th.contents[0].strip()}\")\n",
    "        for td in row.find_all(\"td\"):\n",
    "            print(\"value :\" , f\"{td.contents[0].strip()}\")"
   ]
  },
  {
   "cell_type": "code",
   "execution_count": null,
   "metadata": {},
   "outputs": [],
   "source": []
  },
  {
   "cell_type": "code",
   "execution_count": null,
   "metadata": {},
   "outputs": [],
   "source": []
  },
  {
   "cell_type": "code",
   "execution_count": null,
   "metadata": {},
   "outputs": [],
   "source": []
  }
 ],
 "metadata": {
  "interpreter": {
   "hash": "26de051ba29f2982a8de78e945f0abaf191376122a1563185a90213a26c5da77"
  },
  "kernelspec": {
   "display_name": "Python 3 (ipykernel)",
   "language": "python",
   "name": "python3"
  },
  "language_info": {
   "codemirror_mode": {
    "name": "ipython",
    "version": 3
   },
   "file_extension": ".py",
   "mimetype": "text/x-python",
   "name": "python",
   "nbconvert_exporter": "python",
   "pygments_lexer": "ipython3",
   "version": "3.9.7"
  }
 },
 "nbformat": 4,
 "nbformat_minor": 2
}
